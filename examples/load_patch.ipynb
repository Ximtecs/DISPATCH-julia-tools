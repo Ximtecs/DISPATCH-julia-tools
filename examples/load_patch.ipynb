{
 "cells": [
  {
   "cell_type": "code",
   "execution_count": null,
   "metadata": {},
   "outputs": [],
   "source": [
    "include(\"../IO_data/load_patch.jl\")\n",
    "include(\"../IO/Snapshot_parser.jl\")"
   ]
  },
  {
   "cell_type": "code",
   "execution_count": null,
   "metadata": {},
   "outputs": [],
   "source": [
    "#------------- load meta information of the snapshot -------------------\n",
    "data_folder = \"../example_data\"\n",
    "snapshot_folder = data_folder * \"/00050/\"\n",
    "Snapshot_meta = read_snapshot(snapshot_folder);\n",
    "#----------------------------------------------------------------------"
   ]
  },
  {
   "cell_type": "markdown",
   "metadata": {},
   "source": [
    "# Calls to load patch below\n",
    "\n",
    "Below is are different examples to the call to 'load_patch'.\n",
    "The function is implemented with multiple dispatch, allowing a variety of different calls and return types. \n",
    "\n",
    "Possible calls are:\n",
    "- load_patch(Snapshot_meta :: Snapshot_metadata, patch_ID :: Int)\n",
    "- load_patch(Snapshot_meta::Snapshot_metadata, patch_IDs::Vector{Int})\n",
    "- load_patch(Snapshot_meta::Snapshot_metadata, patch_ID::Int, var :: String)\n",
    "- load_patch(Snapshot_meta::Snapshot_metadata, patch_IDs::Vector{Int}, var::String)\n",
    "- load_patch(Snapshot_meta::Snapshot_metadata, patch_ID::Int, vars::Vector{String})\n",
    "- load_patch(Snapshot_meta::Snapshot_metadata, patch_IDs::Vector{Int}, vars::Vector{String})\n",
    "\n",
    "\n"
   ]
  },
  {
   "cell_type": "code",
   "execution_count": null,
   "metadata": {},
   "outputs": [],
   "source": [
    "#----------- Load all variables for a single patch ---------------------\n",
    "#---------- The output data will be (ix,iy,iz,iv)\n",
    "patch_ID = 5\n",
    "patch_data = load_patch(Snapshot_meta, patch_ID);\n",
    "println(size(patch_data))\n",
    "#----------------------------------------------------------------------"
   ]
  },
  {
   "cell_type": "code",
   "execution_count": null,
   "metadata": {},
   "outputs": [],
   "source": [
    "#----------- load all variables for multiple patches -------------------\n",
    "#---------- The output data will be (ix,iy,iz,iv, patch)\n",
    "#---------- the last index will be sorted in the same order as patch_IDS \n",
    "patch_IDS = [5,3]\n",
    "data = load_patch(Snapshot_meta, patch_IDS);\n",
    "println(size(data))"
   ]
  },
  {
   "cell_type": "code",
   "execution_count": null,
   "metadata": {},
   "outputs": [],
   "source": [
    "#----------- Load a single variable for a single patch ---------------------\n",
    "#---------- The output data will be (ix,iy,iz)\n",
    "patch_ID = 104\n",
    "var = \"rho\" # other ex \n",
    "data = load_patch(Snapshot_meta, patch_ID, var);\n",
    "println(size(data))"
   ]
  },
  {
   "cell_type": "code",
   "execution_count": null,
   "metadata": {},
   "outputs": [],
   "source": [
    "#----------- load all variables for multiple patches -------------------\n",
    "#---------- The output data will be (ix,iy,iz, patch)\n",
    "#---------- the last index will be sorted in the same order as patch_IDS \n",
    "patch_IDS = [104,105]\n",
    "var = \"energy\" # other ex \n",
    "data = load_patch(Snapshot_meta, patch_IDS, var);\n",
    "size(data)"
   ]
  },
  {
   "cell_type": "code",
   "execution_count": null,
   "metadata": {},
   "outputs": [],
   "source": [
    "#----------- Load a single variable for a single patch ---------------------\n",
    "#----------- output with be a dictonary with the variable name as key\n",
    "#---------- The value for each will be structured as (ix,iy,iz)\n",
    "patch_ID = 104\n",
    "vars = [\"rho\", \"e\"] # other ex \n",
    "data = load_patch(Snapshot_meta, patch_ID, vars);\n",
    "println(size(data[\"e\"]))"
   ]
  },
  {
   "cell_type": "code",
   "execution_count": null,
   "metadata": {},
   "outputs": [],
   "source": [
    "#----------- load multiple variables for multiple patches -------------------\n",
    "#----------- output with be a dictonary with the variable name as key\n",
    "#---------- The value for each will be structured as (ix,iy,iz,patch)\n",
    "#---------- the last index will be sorted in the same order as patch_IDS \n",
    "patch_IDS = [104,102, 105, 109]\n",
    "vars = [\"rho\",\"energy\"] # other ex \n",
    "data = load_patch(Snapshot_meta, patch_IDS, vars);\n",
    "println(size(data[\"energy\"]))"
   ]
  }
 ],
 "metadata": {
  "kernelspec": {
   "display_name": "Julia 1.8.5",
   "language": "julia",
   "name": "julia-1.8"
  },
  "language_info": {
   "file_extension": ".jl",
   "mimetype": "application/julia",
   "name": "julia",
   "version": "1.8.5"
  }
 },
 "nbformat": 4,
 "nbformat_minor": 2
}
