{
 "cells": [
  {
   "cell_type": "code",
   "execution_count": null,
   "metadata": {},
   "outputs": [],
   "source": [
    "include(\"../IO/Snapshot_parser.jl\")\n",
    "include(\"../IO_data/load_1D_Slice.jl\")\n",
    "using Plots"
   ]
  },
  {
   "cell_type": "code",
   "execution_count": null,
   "metadata": {},
   "outputs": [],
   "source": [
    "#------------- load meta information of the snapshot -------------------\n",
    "data_folder = \"../example_data\"\n",
    "snapshot_folder = data_folder * \"/00050/\"\n",
    "Snapshot_meta = read_snapshot(snapshot_folder);\n",
    "#----------------------------------------------------------------------"
   ]
  },
  {
   "cell_type": "code",
   "execution_count": null,
   "metadata": {},
   "outputs": [],
   "source": [
    "#----------- Load all variables for a 1D Slice ---------------------\n",
    "#---------- The output data will be (x_line, iv) ----------------------\n",
    "#---------- Line_pos is centered at \"point\"\n",
    "point = [0.0, 0.1, 0.0]\n",
    "dir = [1.0, 0.0, 0.0]\n",
    "data, line_pos, line_3D = @time Slice_1D(Snapshot_meta, point, dir);"
   ]
  },
  {
   "cell_type": "code",
   "execution_count": null,
   "metadata": {},
   "outputs": [],
   "source": [
    "plot(line_pos, data[:,1])"
   ]
  },
  {
   "cell_type": "code",
   "execution_count": null,
   "metadata": {},
   "outputs": [],
   "source": [
    "#----------- Load a single variable for a 1D Slice ---------------------\n",
    "#---------- The output data will be (x_line) ----------------------\n",
    "#---------- Line_pos is centered at \"point\"\n",
    "point = [0.0, 0.1, 0.0]\n",
    "dir = [1.0, 0.0, 0.0]\n",
    "var = \"rho\"\n",
    "data, line_pos, line_3D = @time Slice_1D(Snapshot_meta, point, dir,var);\n",
    "#-----------------------------------------------------------------------------"
   ]
  },
  {
   "cell_type": "code",
   "execution_count": null,
   "metadata": {},
   "outputs": [],
   "source": [
    "plot(line_pos, data[:])"
   ]
  },
  {
   "cell_type": "code",
   "execution_count": null,
   "metadata": {},
   "outputs": [],
   "source": [
    "#----------- Load multiple variables for a 1D Slice ---------------------\n",
    "#----------- output with be a dictonary with the variable name as key\n",
    "#---------- The value for each will be structured as (x_line) \n",
    "point = [0.0, 0.1, 0.0]\n",
    "dir = [1.0, 0.0, 0.0]\n",
    "vars = [\"e\",\"rho\"]\n",
    "\n",
    "data, line_pos, line_3D = @time Slice_1D(Snapshot_meta, point, dir,vars);"
   ]
  },
  {
   "cell_type": "code",
   "execution_count": null,
   "metadata": {},
   "outputs": [],
   "source": [
    "plot(line_pos, data[\"rho\"][:])"
   ]
  }
 ],
 "metadata": {
  "kernelspec": {
   "display_name": "Julia 1.8.5",
   "language": "julia",
   "name": "julia-1.8"
  },
  "language_info": {
   "file_extension": ".jl",
   "mimetype": "application/julia",
   "name": "julia",
   "version": "1.8.5"
  }
 },
 "nbformat": 4,
 "nbformat_minor": 2
}
