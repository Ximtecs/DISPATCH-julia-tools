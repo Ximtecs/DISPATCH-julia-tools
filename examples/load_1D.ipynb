{
 "cells": [
  {
   "cell_type": "code",
   "execution_count": null,
   "metadata": {},
   "outputs": [],
   "source": [
    "include(\"../IO/Snapshot_parser.jl\")\n",
    "include(\"../IO_data/load_1D_Slice.jl\")\n",
    "using Plots"
   ]
  },
  {
   "cell_type": "code",
   "execution_count": null,
   "metadata": {},
   "outputs": [],
   "source": [
    "#------------- load meta information of the snapshot -------------------\n",
    "data_folder = \"../example_data\"\n",
    "snapshot_folder = data_folder * \"/00050/\"\n",
    "Snapshot_meta = read_snapshot(snapshot_folder);\n",
    "#----------------------------------------------------------------------"
   ]
  },
  {
   "cell_type": "code",
   "execution_count": null,
   "metadata": {},
   "outputs": [],
   "source": [
    "point = [0.0, 0.1, 0.0]\n",
    "dir = [1.0, 0.0, 0.0]\n",
    "\n",
    "data, line_pos, line_3D = @time Slice_1D(Snapshot_meta, point, dir);"
   ]
  },
  {
   "cell_type": "code",
   "execution_count": null,
   "metadata": {},
   "outputs": [],
   "source": [
    "plot(line_pos, data[:,1])"
   ]
  },
  {
   "cell_type": "code",
   "execution_count": null,
   "metadata": {},
   "outputs": [],
   "source": [
    "point = [0.0, 0.1, 0.0]\n",
    "dir = [1.0, 0.0, 0.0]\n",
    "var = \"rho\"\n",
    "\n",
    "data, line_pos, line_3D = @time Slice_1D(Snapshot_meta, point, dir,var);"
   ]
  },
  {
   "cell_type": "code",
   "execution_count": null,
   "metadata": {},
   "outputs": [],
   "source": [
    "plot(line_pos, data[:])"
   ]
  },
  {
   "cell_type": "code",
   "execution_count": null,
   "metadata": {},
   "outputs": [],
   "source": [
    "point = [0.0, 0.1, 0.0]\n",
    "dir = [1.0, 0.0, 0.0]\n",
    "vars = [\"e\",\"rho\"]\n",
    "\n",
    "data, line_pos, line_3D = @time Slice_1D(Snapshot_meta, point, dir,vars);"
   ]
  },
  {
   "cell_type": "code",
   "execution_count": null,
   "metadata": {},
   "outputs": [],
   "source": [
    "plot(line_pos, data[\"rho\"][:])"
   ]
  }
 ],
 "metadata": {
  "kernelspec": {
   "display_name": "Julia 1.8.5",
   "language": "julia",
   "name": "julia-1.8"
  },
  "language_info": {
   "file_extension": ".jl",
   "mimetype": "application/julia",
   "name": "julia",
   "version": "1.8.5"
  }
 },
 "nbformat": 4,
 "nbformat_minor": 2
}
