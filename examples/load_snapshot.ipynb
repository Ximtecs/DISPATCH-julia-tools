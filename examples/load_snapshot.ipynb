{
 "cells": [
  {
   "cell_type": "code",
   "execution_count": null,
   "metadata": {},
   "outputs": [],
   "source": [
    "include(\"../IO_data/load_snapshot.jl\")\n",
    "include(\"../IO/Snapshot_parser.jl\")"
   ]
  },
  {
   "cell_type": "code",
   "execution_count": null,
   "metadata": {},
   "outputs": [],
   "source": [
    "#------------- load meta information of the snapshot -------------------\n",
    "data_folder = \"../example_data\"\n",
    "snapshot_folder = data_folder * \"/00050/\"\n",
    "Snapshot_meta = read_snapshot(snapshot_folder);\n",
    "#----------------------------------------------------------------------"
   ]
  },
  {
   "cell_type": "code",
   "execution_count": null,
   "metadata": {},
   "outputs": [],
   "source": [
    "#----------- Loads all variables for the snapshot\n",
    "#----------- all patches are put into a single 3D array\n",
    "#----------- The output data will be (ix,iy,iz,iv)\n",
    "data = load_snapshot(Snapshot_meta);\n",
    "size(data)"
   ]
  },
  {
   "cell_type": "code",
   "execution_count": null,
   "metadata": {},
   "outputs": [],
   "source": [
    "#----------- Loads a single variable for the snapshot\n",
    "#----------- all patches are put into a single 3D array\n",
    "#----------- The output data will be (ix,iy,iz)\n",
    "var = \"rho\"\n",
    "data = load_snapshot(Snapshot_meta, var);\n",
    "size(data)"
   ]
  },
  {
   "cell_type": "code",
   "execution_count": null,
   "metadata": {},
   "outputs": [],
   "source": [
    "#----------- Loads multiple variables for the snapshot\n",
    "#----------- output with be a dictonary with the variable name as key\n",
    "#---------- The value for each will be structured as (ix,iy,iz)\n",
    "vars = [\"rho\", \"energy\"]\n",
    "data = load_snapshot(Snapshot_meta, vars);\n",
    "println(size(data[\"rho\"]))"
   ]
  }
 ],
 "metadata": {
  "kernelspec": {
   "display_name": "Julia 1.8.5",
   "language": "julia",
   "name": "julia-1.8"
  },
  "language_info": {
   "file_extension": ".jl",
   "mimetype": "application/julia",
   "name": "julia",
   "version": "1.8.5"
  }
 },
 "nbformat": 4,
 "nbformat_minor": 2
}
