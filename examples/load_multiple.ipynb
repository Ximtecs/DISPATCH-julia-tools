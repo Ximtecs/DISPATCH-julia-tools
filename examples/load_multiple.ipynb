{
 "cells": [
  {
   "cell_type": "code",
   "execution_count": null,
   "metadata": {},
   "outputs": [],
   "source": [
    "include(\"../IO_data/load_multiple_snapshots.jl\")"
   ]
  },
  {
   "cell_type": "code",
   "execution_count": null,
   "metadata": {},
   "outputs": [],
   "source": [
    "data_folder = \"../example_data/input_scaling_test/\"\n",
    "\n",
    "i_start = 0\n",
    "i_end = 10\n",
    "stride = 1\n",
    "\n",
    "data, t = load_multiple_snapshots(data_folder, i_start, i_end, stride);"
   ]
  },
  {
   "cell_type": "code",
   "execution_count": null,
   "metadata": {},
   "outputs": [],
   "source": [
    "data_folder = \"../example_data/input_scaling_test/\"\n",
    "\n",
    "i_start = 0\n",
    "i_end = 10\n",
    "stride = 1\n",
    "\n",
    "var = \"rho\"\n",
    "\n",
    "data, t = load_multiple_snapshots(data_folder, var, i_start, i_end, stride);"
   ]
  },
  {
   "cell_type": "code",
   "execution_count": null,
   "metadata": {},
   "outputs": [],
   "source": [
    "data_folder = \"../example_data/input_scaling_test/\"\n",
    "\n",
    "i_start = 0\n",
    "i_end = 10\n",
    "stride = 1\n",
    "\n",
    "vars = [\"rho\", \"e\"]\n",
    "\n",
    "data, t = load_multiple_snapshots(data_folder, vars, i_start, i_end, stride);"
   ]
  },
  {
   "cell_type": "code",
   "execution_count": null,
   "metadata": {},
   "outputs": [],
   "source": []
  }
 ],
 "metadata": {
  "kernelspec": {
   "display_name": "Julia 1.9.4",
   "language": "julia",
   "name": "julia-1.9"
  },
  "language_info": {
   "file_extension": ".jl",
   "mimetype": "application/julia",
   "name": "julia",
   "version": "1.9.4"
  }
 },
 "nbformat": 4,
 "nbformat_minor": 2
}
