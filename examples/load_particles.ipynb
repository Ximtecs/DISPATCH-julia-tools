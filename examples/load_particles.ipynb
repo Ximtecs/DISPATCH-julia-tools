{
 "cells": [
  {
   "cell_type": "code",
   "execution_count": null,
   "metadata": {},
   "outputs": [],
   "source": [
    "include(\"../IO/Snapshot_parser.jl\")\n",
    "include(\"../IO_data/load_snapshot_PIC.jl\")"
   ]
  },
  {
   "cell_type": "code",
   "execution_count": null,
   "metadata": {},
   "outputs": [],
   "source": [
    "\n",
    "#------- Example when loading a snapshot that includes particles \n",
    "data_folder = \"../example_data/input_scaling_test/\"\n",
    "snap = 1\n",
    "Snapshot_meta = read_snapshot(data_folder, snap);\n",
    "include_particles = true\n",
    "all_data, all_q, all_r, all_p, all_w, all_e, all_nr, all_pos, all_ids = load_snapshot_PIC(Snapshot_meta, include_particles);"
   ]
  },
  {
   "cell_type": "code",
   "execution_count": null,
   "metadata": {},
   "outputs": [],
   "source": [
    "#------- Example when loading a snapshot that does not include particles \n",
    "#------ Note we here still set include_particles = true\n",
    "#------ The function will give a warning and return empty arrays for the particles\n",
    "data_folder = \"../example_data/input_scaling_test_no_part/\"\n",
    "snap = 1\n",
    "Snapshot_meta = read_snapshot(data_folder, snap);\n",
    "include_particles = true\n",
    "all_data, all_q, all_r, all_p, all_w, all_e, all_nr, all_pos, all_ids = load_snapshot_PIC(Snapshot_meta, include_particles);"
   ]
  }
 ],
 "metadata": {
  "kernelspec": {
   "display_name": "Julia 1.8.5",
   "language": "julia",
   "name": "julia-1.8"
  },
  "language_info": {
   "file_extension": ".jl",
   "mimetype": "application/julia",
   "name": "julia",
   "version": "1.8.5"
  }
 },
 "nbformat": 4,
 "nbformat_minor": 2
}
