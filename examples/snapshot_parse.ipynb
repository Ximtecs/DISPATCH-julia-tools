{
 "cells": [
  {
   "cell_type": "markdown",
   "metadata": {},
   "source": [
    "# Loading and printing of Metadata for a single snapshot\n",
    "Below is shown an example where meta data of a single snapshot is loaded. The information of individual component can printed with the \"print_info\" function which has multiple-dispatch. \n",
    "\n",
    "If the entire snapshot metadata is printed, information about each patch is not included to avoid too long printout."
   ]
  },
  {
   "cell_type": "code",
   "execution_count": null,
   "metadata": {},
   "outputs": [],
   "source": [
    "include(\"../IO/Snapshot_parser.jl\")\n",
    "include(\"../IO/Print_Meta.jl\")"
   ]
  },
  {
   "cell_type": "code",
   "execution_count": 2,
   "metadata": {},
   "outputs": [],
   "source": [
    "data_folder = \"../example_data\"\n",
    "snapshot_folder = data_folder * \"/00050/\"\n",
    "Snapshot_meta = read_snapshot(snapshot_folder);"
   ]
  },
  {
   "cell_type": "code",
   "execution_count": 3,
   "metadata": {},
   "outputs": [],
   "source": [
    "#print_info(Snapshot_meta.IO)\n",
    "#println(\"\")\n",
    "#print_info(Snapshot_meta.IDX)\n",
    "#println(\"\")\n",
    "#print_info(Snapshot_meta.SNAPSHOT)\n",
    "#println(\"\")\n",
    "#print_info(Snapshot_meta.PATCHES[1])"
   ]
  },
  {
   "cell_type": "code",
   "execution_count": 4,
   "metadata": {},
   "outputs": [
    {
     "name": "stdout",
     "output_type": "stream",
     "text": [
      "IO:                  \n",
      "FORMAT:              0\n",
      "NTOTAL:              0\n",
      "OUT_TIME:            0.004\n",
      "GUARD_ZONES:         false\n",
      "TIME_DERIVS:         0\n",
      "METHOD:              background\n",
      "NML_VERSION:         4\n",
      "DO_GENERIC:          false\n",
      "\n",
      "SNAPSHOT:          \n",
      "IOFORMAT:            0\n",
      "IOUT:                50\n",
      "TIME:                0.20000000000000015\n",
      "NTOTAL:              0\n",
      "BOX:                 [4.0, 4.0, 0.015625]\n",
      "LI:                  [6, 6, 6]\n",
      "UI:                  [21, 21, 6]\n",
      "NG:                  [5, 5, 5]\n",
      "GN:                  [26, 26, 11]\n",
      "N:                   [16, 16, 1]\n",
      "NV:                  14\n",
      "MV:                  14\n",
      "NT:                  5\n",
      "GAMMA:               2.0\n",
      "EOS_NAME:            ideal\n",
      "OPACITY:             none\n",
      "PERIODIC:            Bool[1, 1, 1]\n",
      "GUARD_ZONES:         false\n",
      "TIME_DERIVS:         0\n",
      "NO_MANS_LAND:        true\n",
      "OMP_NTHREADS:        128\n",
      "MPI_SIZE:            1\n",
      "MESH_TYPE:           1\n",
      "MPI_DIMS:            [1, 1, 1]\n",
      "REFINE_RATIO:        2\n",
      "ORIGIN:              [-2.0, -2.0, -0.0078125]\n",
      "\n",
      "IDX:               \n",
      "D:                   0\n",
      "E:                   4\n",
      "ET:                  -1\n",
      "S:                   -2\n",
      "PX:                  1\n",
      "PY:                  2\n",
      "PZ:                  3\n",
      "BX:                  5\n",
      "BY:                  6\n",
      "BZ:                  7\n",
      "QR:                  -1\n",
      "TT:                  -1\n",
      "PHI:                 -1\n",
      "P1:                  1\n",
      "P2:                  2\n",
      "P3:                  3\n",
      "B1:                  5\n",
      "B2:                  6\n",
      "B3:                  7\n",
      "EX:                  8\n",
      "EY:                  9\n",
      "EZ:                  10\n",
      "JX:                  11\n",
      "JY:                  12\n",
      "JZ:                  13\n",
      "RPHI:                -1\n",
      "\n",
      "Number of PATCHES: 256\n",
      "Folder:              ../example_data/00050/\n"
     ]
    }
   ],
   "source": [
    "print_info(Snapshot_meta)"
   ]
  }
 ],
 "metadata": {
  "kernelspec": {
   "display_name": "Julia 1.8.5",
   "language": "julia",
   "name": "julia-1.8"
  },
  "language_info": {
   "file_extension": ".jl",
   "mimetype": "application/julia",
   "name": "julia",
   "version": "1.8.5"
  }
 },
 "nbformat": 4,
 "nbformat_minor": 2
}
