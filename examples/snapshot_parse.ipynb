{
 "cells": [
  {
   "cell_type": "markdown",
   "metadata": {},
   "source": [
    "# Loading and printing of Metadata for a single snapshot\n",
    "Below is shown an example where meta data of a single snapshot is loaded. The information of individual component can printed with the \"print_info\" function which has multiple-dispatch. \n",
    "\n",
    "If the entire snapshot metadata is printed, information about each patch is not included to avoid too long printout."
   ]
  },
  {
   "cell_type": "code",
   "execution_count": 1,
   "metadata": {},
   "outputs": [
    {
     "data": {
      "text/plain": [
       "print_info (generic function with 7 methods)"
      ]
     },
     "metadata": {},
     "output_type": "display_data"
    }
   ],
   "source": [
    "include(\"../IO/Snapshot_parser.jl\")\n",
    "include(\"../IO/Print_Meta.jl\")"
   ]
  },
  {
   "cell_type": "code",
   "execution_count": 5,
   "metadata": {},
   "outputs": [
    {
     "data": {
      "text/plain": [
       "Snapshot_metadata(IO_NML(0, 0, 0.01, false, 0, \"background\", 4, false, true), SNAPSHOT_NML(0, 5, 0.05, 0, [10.0, 10.0, 0.2], [4, 4, 4], [13, 13, 4], [3, 3, 3], [16, 16, 7], [10, 10, 1], 14, 14, 5, 1.4, \"ideal\", \"none\", Bool[1, 1, 1], false, 0, true, 16, 1, 1, [1, 1, 1], 2, [0.0, 0.0, 0.0]), IDX_NML(1, 5, 0, -1, 2, 3, 4, 6, 7, 8, 0, 0, 0, 2, 3, 4, 6, 7, 8, 9, 10, 11, 12, 13, 14, 0), 25, Patch_NML[Patch_NML(20, [9.0, 7.0, 0.1], [2.0, 2.0, 0.2], 6, 0.0002775263643056385, 105, [0.2, 0.2, 0.2], [10, 10, 1], [10, 10, 1], 1, [0.0, 0.0, 0.0], 0.0, 1, \"hlld_mhd_patch\", \"thermal\", 1, 0, [4, 3, 0], 22.9680977, [9.0, 7.0, 0.1], [8.0, 6.0, 0.0], [0.0, 0.0, 0.0], [0.0, 0.0, 0.0], [0.0, 0.0, 0.0], NBOR_NML(0, [11, 14, 15, 16, 19, 21, 24, 25]), 1, \"../example_data/input_scaling_test/00005/snapshot_00000.dat\"), Patch_NML(9, [7.0, 3.0, 0.1], [2.0, 2.0, 0.2], 6, 0.0002775263643056385, 105, [0.2, 0.2, 0.2], [10, 10, 1], [10, 10, 1], 1, [0.0, 0.0, 0.0], 0.0, 1, \"hlld_mhd_patch\", \"thermal\", 2, 0, [3, 1, 0], 22.9529095, [7.0, 3.0, 0.1], [6.0, 2.0, 0.0], [0.0, 0.0, 0.0], [0.0, 0.0, 0.0], [0.0, 0.0, 0.0], NBOR_NML(0, [3, 4, 5, 8, 10, 13, 14, 15]), 2, \"../example_data/input_scaling_test/00005/snapshot_00000.dat\"), Patch_NML(14, [7.0, 5.0, 0.1], [2.0, 2.0, 0.2], 6, 0.0002775263643056385, 105, [0.2, 0.2, 0.2], [10, 10, 1], [10, 10, 1], 1, [0.0, 0.0, 0.0], 0.0, 1, \"hlld_mhd_patch\", \"thermal\", 3, 0, [3, 2, 0], 23.0016937, [7.0, 5.0, 0.1], [6.0, 4.0, 0.0], [0.0, 0.0, 0.0], [0.0, 0.0, 0.0], [0.0, 0.0, 0.0], NBOR_NML(0, [8, 9, 10, 13, 15, 18, 19, 20]), 3, \"../example_data/input_scaling_test/00005/snapshot_00000.dat\"), Patch_NML(11, [1.0, 5.0, 0.1], [2.0, 2.0, 0.2], 6, 0.0002775263643056385, 105, [0.2, 0.2, 0.2], [10, 10, 1], [10, 10, 1], 1, [0.0, 0.0, 0.0], 0.0, 1, \"hlld_mhd_patch\", \"thermal\", 4, 0, [0, 2, 0], 22.8878574, [1.0, 5.0, 0.1], [0.0, 4.0, 0.0], [0.0, 0.0, 0.0], [0.0, 0.0, 0.0], [0.0, 0.0, 0.0], NBOR_NML(0, [6, 7, 10, 12, 15, 16, 17, 20]), 4, \"../example_data/input_scaling_test/00005/snapshot_00000.dat\"), Patch_NML(5, [9.0, 1.0, 0.1], [2.0, 2.0, 0.2], 6, 0.0002775263643056385, 105, [0.2, 0.2, 0.2], [10, 10, 1], [10, 10, 1], 1, [0.0, 0.0, 0.0], 0.0, 1, \"hlld_mhd_patch\", \"thermal\", 5, 0, [4, 0, 0], 22.9033928, [9.0, 1.0, 0.1], [8.0, 0.0, 0.0], [0.0, 0.0, 0.0], [0.0, 0.0, 0.0], [0.0, 0.0, 0.0], NBOR_NML(0, [1, 4, 6, 9, 10, 21, 24, 25]), 5, \"../example_data/input_scaling_test/00005/snapshot_00000.dat\"), Patch_NML(12, [3.0, 5.0, 0.1], [2.0, 2.0, 0.2], 6, 0.0002775263643056385, 105, [0.2, 0.2, 0.2], [10, 10, 1], [10, 10, 1], 1, [0.0, 0.0, 0.0], 0.0, 1, \"hlld_mhd_patch\", \"thermal\", 6, 0, [1, 2, 0], 22.869976, [3.0, 5.0, 0.1], [2.0, 4.0, 0.0], [0.0, 0.0, 0.0], [0.0, 0.0, 0.0], [0.0, 0.0, 0.0], NBOR_NML(0, [6, 7, 8, 11, 13, 16, 17, 18]), 6, \"../example_data/input_scaling_test/00005/snapshot_00000.dat\"), Patch_NML(6, [1.0, 3.0, 0.1], [2.0, 2.0, 0.2], 6, 0.0002775263643056385, 105, [0.2, 0.2, 0.2], [10, 10, 1], [10, 10, 1], 1, [0.0, 0.0, 0.0], 0.0, 1, \"hlld_mhd_patch\", \"thermal\", 7, 0, [0, 1, 0], 27.857584, [1.0, 3.0, 0.1], [0.0, 2.0, 0.0], [0.0, 0.0, 0.0], [0.0, 0.0, 0.0], [0.0, 0.0, 0.0], NBOR_NML(0, [1, 2, 5, 7, 10, 11, 12, 15]), 7, \"../example_data/input_scaling_test/00005/snapshot_00000.dat\"), Patch_NML(10, [9.0, 3.0, 0.1], [2.0, 2.0, 0.2], 6, 0.0002775263643056385, 105, [0.2, 0.2, 0.2], [10, 10, 1], [10, 10, 1], 1, [0.0, 0.0, 0.0], 0.0, 1, \"hlld_mhd_patch\", \"thermal\", 8, 0, [4, 1, 0], 22.7460365, [9.0, 3.0, 0.1], [8.0, 2.0, 0.0], [0.0, 0.0, 0.0], [0.0, 0.0, 0.0], [0.0, 0.0, 0.0], NBOR_NML(0, [1, 4, 5, 6, 9, 11, 14, 15]), 8, \"../example_data/input_scaling_test/00005/snapshot_00000.dat\"), Patch_NML(21, [1.0, 9.0, 0.1], [2.0, 2.0, 0.2], 6, 0.0002775263643056385, 105, [0.2, 0.2, 0.2], [10, 10, 1], [10, 10, 1], 1, [0.0, 0.0, 0.0], 0.0, 1, \"hlld_mhd_patch\", \"thermal\", 9, 0, [0, 4, 0], 22.9659691, [1.0, 9.0, 0.1], [0.0, 8.0, 0.0], [0.0, 0.0, 0.0], [0.0, 0.0, 0.0], [0.0, 0.0, 0.0], NBOR_NML(0, [1, 2, 5, 16, 17, 20, 22, 25]), 9, \"../example_data/input_scaling_test/00005/snapshot_00000.dat\"), Patch_NML(7, [3.0, 3.0, 0.1], [2.0, 2.0, 0.2], 6, 0.0002775263643056385, 105, [0.2, 0.2, 0.2], [10, 10, 1], [10, 10, 1], 1, [0.0, 0.0, 0.0], 0.0, 1, \"hlld_mhd_patch\", \"thermal\", 10, 0, [1, 1, 0], 23.1222916, [3.0, 3.0, 0.1], [2.0, 2.0, 0.0], [0.0, 0.0, 0.0], [0.0, 0.0, 0.0], [0.0, 0.0, 0.0], NBOR_NML(0, [1, 2, 3, 6, 8, 11, 12, 13]), 10, \"../example_data/input_scaling_test/00005/snapshot_00000.dat\")  …  Patch_NML(16, [1.0, 7.0, 0.1], [2.0, 2.0, 0.2], 6, 0.0002775263643056385, 105, [0.2, 0.2, 0.2], [10, 10, 1], [10, 10, 1], 1, [0.0, 0.0, 0.0], 0.0, 1, \"hlld_mhd_patch\", \"thermal\", 16, 0, [0, 3, 0], 22.8952942, [1.0, 7.0, 0.1], [0.0, 6.0, 0.0], [0.0, 0.0, 0.0], [0.0, 0.0, 0.0], [0.0, 0.0, 0.0], NBOR_NML(0, [11, 12, 15, 17, 20, 21, 22, 25]), 16, \"../example_data/input_scaling_test/00005/snapshot_00000.dat\"), Patch_NML(3, [5.0, 1.0, 0.1], [2.0, 2.0, 0.2], 6, 0.0002775263643056385, 105, [0.2, 0.2, 0.2], [10, 10, 1], [10, 10, 1], 1, [0.0, 0.0, 0.0], 0.0, 1, \"hlld_mhd_patch\", \"thermal\", 17, 0, [2, 0, 0], 22.9778728, [5.0, 1.0, 0.1], [4.0, 0.0, 0.0], [0.0, 0.0, 0.0], [0.0, 0.0, 0.0], [0.0, 0.0, 0.0], NBOR_NML(0, [2, 4, 7, 8, 9, 22, 23, 24]), 17, \"../example_data/input_scaling_test/00005/snapshot_00000.dat\"), Patch_NML(2, [3.0, 1.0, 0.1], [2.0, 2.0, 0.2], 6, 0.0002775263643056385, 105, [0.2, 0.2, 0.2], [10, 10, 1], [10, 10, 1], 1, [0.0, 0.0, 0.0], 0.0, 1, \"hlld_mhd_patch\", \"thermal\", 18, 0, [1, 0, 0], 22.7857151, [3.0, 1.0, 0.1], [2.0, 0.0, 0.0], [0.0, 0.0, 0.0], [0.0, 0.0, 0.0], [0.0, 0.0, 0.0], NBOR_NML(0, [1, 3, 6, 7, 8, 21, 22, 23]), 18, \"../example_data/input_scaling_test/00005/snapshot_00000.dat\"), Patch_NML(4, [7.0, 1.0, 0.1], [2.0, 2.0, 0.2], 6, 0.0002775263643056385, 105, [0.2, 0.2, 0.2], [10, 10, 1], [10, 10, 1], 1, [0.0, 0.0, 0.0], 0.0, 1, \"hlld_mhd_patch\", \"thermal\", 19, 0, [3, 0, 0], 22.8127728, [7.0, 1.0, 0.1], [6.0, 0.0, 0.0], [0.0, 0.0, 0.0], [0.0, 0.0, 0.0], [0.0, 0.0, 0.0], NBOR_NML(0, [3, 5, 8, 9, 10, 23, 24, 25]), 19, \"../example_data/input_scaling_test/00005/snapshot_00000.dat\"), Patch_NML(17, [3.0, 7.0, 0.1], [2.0, 2.0, 0.2], 6, 0.0002775263643056385, 105, [0.2, 0.2, 0.2], [10, 10, 1], [10, 10, 1], 1, [0.0, 0.0, 0.0], 0.0, 1, \"hlld_mhd_patch\", \"thermal\", 20, 0, [1, 3, 0], 22.8971539, [3.0, 7.0, 0.1], [2.0, 6.0, 0.0], [0.0, 0.0, 0.0], [0.0, 0.0, 0.0], [0.0, 0.0, 0.0], NBOR_NML(0, [11, 12, 13, 16, 18, 21, 22, 23]), 20, \"../example_data/input_scaling_test/00005/snapshot_00000.dat\"), Patch_NML(18, [5.0, 7.0, 0.1], [2.0, 2.0, 0.2], 6, 0.0002775263643056385, 105, [0.2, 0.2, 0.2], [10, 10, 1], [10, 10, 1], 1, [0.0, 0.0, 0.0], 0.0, 1, \"hlld_mhd_patch\", \"thermal\", 21, 0, [2, 3, 0], 22.9058628, [5.0, 7.0, 0.1], [4.0, 6.0, 0.0], [0.0, 0.0, 0.0], [0.0, 0.0, 0.0], [0.0, 0.0, 0.0], NBOR_NML(0, [12, 13, 14, 17, 19, 22, 23, 24]), 21, \"../example_data/input_scaling_test/00005/snapshot_00000.dat\"), Patch_NML(19, [7.0, 7.0, 0.1], [2.0, 2.0, 0.2], 6, 0.0002775263643056385, 105, [0.2, 0.2, 0.2], [10, 10, 1], [10, 10, 1], 1, [0.0, 0.0, 0.0], 0.0, 1, \"hlld_mhd_patch\", \"thermal\", 22, 0, [3, 3, 0], 22.7674065, [7.0, 7.0, 0.1], [6.0, 6.0, 0.0], [0.0, 0.0, 0.0], [0.0, 0.0, 0.0], [0.0, 0.0, 0.0], NBOR_NML(0, [13, 14, 15, 18, 20, 23, 24, 25]), 22, \"../example_data/input_scaling_test/00005/snapshot_00000.dat\"), Patch_NML(22, [3.0, 9.0, 0.1], [2.0, 2.0, 0.2], 6, 0.0002775263643056385, 105, [0.2, 0.2, 0.2], [10, 10, 1], [10, 10, 1], 1, [0.0, 0.0, 0.0], 0.0, 1, \"hlld_mhd_patch\", \"thermal\", 23, 0, [1, 4, 0], 22.8618031, [3.0, 9.0, 0.1], [2.0, 8.0, 0.0], [0.0, 0.0, 0.0], [0.0, 0.0, 0.0], [0.0, 0.0, 0.0], NBOR_NML(0, [1, 2, 3, 16, 17, 18, 21, 23]), 23, \"../example_data/input_scaling_test/00005/snapshot_00000.dat\"), Patch_NML(24, [7.0, 9.0, 0.1], [2.0, 2.0, 0.2], 6, 0.0002775263643056385, 105, [0.2, 0.2, 0.2], [10, 10, 1], [10, 10, 1], 1, [0.0, 0.0, 0.0], 0.0, 1, \"hlld_mhd_patch\", \"thermal\", 24, 0, [3, 4, 0], 22.8182507, [7.0, 9.0, 0.1], [6.0, 8.0, 0.0], [0.0, 0.0, 0.0], [0.0, 0.0, 0.0], [0.0, 0.0, 0.0], NBOR_NML(0, [3, 4, 5, 18, 19, 20, 23, 25]), 24, \"../example_data/input_scaling_test/00005/snapshot_00000.dat\"), Patch_NML(23, [5.0, 9.0, 0.1], [2.0, 2.0, 0.2], 6, 0.0002775263643056385, 105, [0.2, 0.2, 0.2], [10, 10, 1], [10, 10, 1], 1, [0.0, 0.0, 0.0], 0.0, 1, \"hlld_mhd_patch\", \"thermal\", 25, 0, [2, 4, 0], 23.4611378, [5.0, 9.0, 0.1], [4.0, 8.0, 0.0], [0.0, 0.0, 0.0], [0.0, 0.0, 0.0], [0.0, 0.0, 0.0], NBOR_NML(0, [2, 3, 4, 17, 18, 19, 22, 24]), 25, \"../example_data/input_scaling_test/00005/snapshot_00000.dat\")], 25, 2, [25000, 25000], Particles_NML[Particles_NML(14, 2, true, 11, Bool[1, 0], [1.0, 1.0], [-1.0, 1.0], [1004, 999], 1, \"../example_data/input_scaling_test/particles/00005/rank_00000.data\"), Particles_NML(20, 2, true, 11, Bool[1, 0], [1.0, 1.0], [-1.0, 1.0], [1002, 1001], 2, \"../example_data/input_scaling_test/particles/00005/rank_00000.data\"), Particles_NML(9, 2, true, 11, Bool[1, 0], [1.0, 1.0], [-1.0, 1.0], [993, 1001], 3, \"../example_data/input_scaling_test/particles/00005/rank_00000.data\"), Particles_NML(11, 2, true, 11, Bool[1, 0], [1.0, 1.0], [-1.0, 1.0], [996, 1003], 4, \"../example_data/input_scaling_test/particles/00005/rank_00000.data\"), Particles_NML(7, 2, true, 11, Bool[1, 0], [1.0, 1.0], [-1.0, 1.0], [1000, 1002], 5, \"../example_data/input_scaling_test/particles/00005/rank_00000.data\"), Particles_NML(12, 2, true, 11, Bool[1, 0], [1.0, 1.0], [-1.0, 1.0], [990, 998], 6, \"../example_data/input_scaling_test/particles/00005/rank_00000.data\"), Particles_NML(5, 2, true, 11, Bool[1, 0], [1.0, 1.0], [-1.0, 1.0], [1006, 1003], 7, \"../example_data/input_scaling_test/particles/00005/rank_00000.data\"), Particles_NML(21, 2, true, 11, Bool[1, 0], [1.0, 1.0], [-1.0, 1.0], [985, 999], 8, \"../example_data/input_scaling_test/particles/00005/rank_00000.data\"), Particles_NML(1, 2, true, 11, Bool[1, 0], [1.0, 1.0], [-1.0, 1.0], [993, 998], 9, \"../example_data/input_scaling_test/particles/00005/rank_00000.data\"), Particles_NML(6, 2, true, 11, Bool[1, 0], [1.0, 1.0], [-1.0, 1.0], [1006, 1002], 10, \"../example_data/input_scaling_test/particles/00005/rank_00000.data\")  …  Particles_NML(16, 2, true, 11, Bool[1, 0], [1.0, 1.0], [-1.0, 1.0], [996, 999], 16, \"../example_data/input_scaling_test/particles/00005/rank_00000.data\"), Particles_NML(3, 2, true, 11, Bool[1, 0], [1.0, 1.0], [-1.0, 1.0], [994, 997], 17, \"../example_data/input_scaling_test/particles/00005/rank_00000.data\"), Particles_NML(2, 2, true, 11, Bool[1, 0], [1.0, 1.0], [-1.0, 1.0], [982, 1000], 18, \"../example_data/input_scaling_test/particles/00005/rank_00000.data\"), Particles_NML(4, 2, true, 11, Bool[1, 0], [1.0, 1.0], [-1.0, 1.0], [1015, 1001], 19, \"../example_data/input_scaling_test/particles/00005/rank_00000.data\"), Particles_NML(17, 2, true, 11, Bool[1, 0], [1.0, 1.0], [-1.0, 1.0], [1014, 999], 20, \"../example_data/input_scaling_test/particles/00005/rank_00000.data\"), Particles_NML(18, 2, true, 11, Bool[1, 0], [1.0, 1.0], [-1.0, 1.0], [1003, 1000], 21, \"../example_data/input_scaling_test/particles/00005/rank_00000.data\"), Particles_NML(19, 2, true, 11, Bool[1, 0], [1.0, 1.0], [-1.0, 1.0], [984, 1003], 22, \"../example_data/input_scaling_test/particles/00005/rank_00000.data\"), Particles_NML(22, 2, true, 11, Bool[1, 0], [1.0, 1.0], [-1.0, 1.0], [1012, 1000], 23, \"../example_data/input_scaling_test/particles/00005/rank_00000.data\"), Particles_NML(24, 2, true, 11, Bool[1, 0], [1.0, 1.0], [-1.0, 1.0], [1013, 999], 24, \"../example_data/input_scaling_test/particles/00005/rank_00000.data\"), Particles_NML(23, 2, true, 11, Bool[1, 0], [1.0, 1.0], [-1.0, 1.0], [999, 1000], 25, \"../example_data/input_scaling_test/particles/00005/rank_00000.data\")], \"../example_data/input_scaling_test/00005/\")"
      ]
     },
     "metadata": {},
     "output_type": "display_data"
    }
   ],
   "source": [
    "#------------- load meta information of the snapshot -------------------\n",
    "#data_folder = \"../example_data/example_1/\"\n",
    "#snap = 50\n",
    "data_folder = \"../example_data/input_scaling_test/\"\n",
    "snap = 5\n",
    "Snapshot_meta = read_snapshot(data_folder, snap);\n",
    "#----------------------------------------------------------------------"
   ]
  },
  {
   "cell_type": "code",
   "execution_count": 3,
   "metadata": {},
   "outputs": [],
   "source": [
    "#print_info(Snapshot_meta.IO)\n",
    "#println(\"\")\n",
    "#print_info(Snapshot_meta.IDX)\n",
    "#println(\"\")\n",
    "#print_info(Snapshot_meta.SNAPSHOT)\n",
    "#println(\"\")\n",
    "#print_info(Snapshot_meta.PATCHES[1])"
   ]
  },
  {
   "cell_type": "code",
   "execution_count": 6,
   "metadata": {},
   "outputs": [
    {
     "name": "stdout",
     "output_type": "stream",
     "text": [
      "IO:                  \n",
      "FORMAT:              0\n",
      "NTOTAL:              0\n",
      "OUT_TIME:            0.01\n",
      "GUARD_ZONES:         false\n",
      "TIME_DERIVS:         0\n",
      "METHOD:              background\n",
      "NML_VERSION:         4\n",
      "DO_GENERIC:          false\n",
      "DO_PIC:              true\n",
      "\n",
      "SNAPSHOT:          \n",
      "IOFORMAT:            0\n",
      "IOUT:                5\n",
      "TIME:                0.05\n",
      "NTOTAL:              0\n",
      "BOX:                 [10.0, 10.0, 0.2]\n",
      "LI:                  [4, 4, 4]\n",
      "UI:                  [13, 13, 4]\n",
      "NG:                  [3, 3, 3]\n",
      "GN:                  [16, 16, 7]\n",
      "N:                   [10, 10, 1]\n",
      "NV:                  14\n",
      "MV:                  14\n",
      "NT:                  5\n",
      "GAMMA:               1.4\n",
      "EOS_NAME:            ideal\n",
      "OPACITY:             none\n",
      "PERIODIC:            Bool[1, 1, 1]\n",
      "GUARD_ZONES:         false\n",
      "TIME_DERIVS:         0\n",
      "NO_MANS_LAND:        true\n",
      "OMP_NTHREADS:        16\n",
      "MPI_SIZE:            1\n",
      "MESH_TYPE:           1\n",
      "MPI_DIMS:            [1, 1, 1]\n",
      "REFINE_RATIO:        2\n",
      "ORIGIN:              [0.0, 0.0, 0.0]\n",
      "\n",
      "IDX:               \n",
      "D:                   1\n",
      "E:                   5\n",
      "ET:                  0\n",
      "S:                   -1\n",
      "PX:                  2\n",
      "PY:                  3\n",
      "PZ:                  4\n",
      "BX:                  6\n",
      "BY:                  7\n",
      "BZ:                  8\n",
      "QR:                  0\n",
      "TT:                  0\n",
      "PHI:                 0\n",
      "P1:                  2\n",
      "P2:                  3\n",
      "P3:                  4\n",
      "B1:                  6\n",
      "B2:                  7\n",
      "B3:                  8\n",
      "EX:                  9\n",
      "EY:                  10\n",
      "EZ:                  11\n",
      "JX:                  12\n",
      "JY:                  13\n",
      "JZ:                  14\n",
      "RPHI:                0\n",
      "\n",
      "Number of PATCHES: 25\n",
      "Folder:              ../example_data/input_scaling_test/00005/\n",
      "\n",
      "#Particle Patches: 25\n",
      "Number of Species:   2\n",
      "#Particles           25000, 25000\n"
     ]
    }
   ],
   "source": [
    "print_info(Snapshot_meta)"
   ]
  }
 ],
 "metadata": {
  "kernelspec": {
   "display_name": "Julia 1.8.5",
   "language": "julia",
   "name": "julia-1.8"
  },
  "language_info": {
   "file_extension": ".jl",
   "mimetype": "application/julia",
   "name": "julia",
   "version": "1.8.5"
  }
 },
 "nbformat": 4,
 "nbformat_minor": 2
}
