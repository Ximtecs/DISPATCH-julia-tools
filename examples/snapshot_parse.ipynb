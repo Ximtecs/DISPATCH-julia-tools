{
 "cells": [
  {
   "cell_type": "markdown",
   "metadata": {},
   "source": [
    "# Loading and printing of Metadata for a single snapshot\n",
    "Below is shown an example where meta data of a single snapshot is loaded. The information of individual component can printed with the \"print_info\" function which has multiple-dispatch. \n",
    "\n",
    "If the entire snapshot metadata is printed, information about each patch is not included to avoid too long printout."
   ]
  },
  {
   "cell_type": "code",
   "execution_count": null,
   "metadata": {},
   "outputs": [],
   "source": [
    "include(\"../IO/Snapshot_parser.jl\")\n",
    "include(\"../IO/Print_Meta.jl\")"
   ]
  },
  {
   "cell_type": "code",
   "execution_count": null,
   "metadata": {},
   "outputs": [],
   "source": [
    "data_folder = \"../example_data\"\n",
    "snapshot_folder = data_folder * \"/00050/\"\n",
    "Snapshot_meta = read_snapshot(snapshot_folder);"
   ]
  },
  {
   "cell_type": "code",
   "execution_count": null,
   "metadata": {},
   "outputs": [],
   "source": [
    "#print_info(Snapshot_meta.IO)\n",
    "#println(\"\")\n",
    "#print_info(Snapshot_meta.IDX)\n",
    "#println(\"\")\n",
    "#print_info(Snapshot_meta.SNAPSHOT)\n",
    "#println(\"\")\n",
    "#print_info(Snapshot_meta.PATCHES[1])"
   ]
  },
  {
   "cell_type": "code",
   "execution_count": null,
   "metadata": {},
   "outputs": [],
   "source": [
    "print_info(Snapshot_meta)"
   ]
  }
 ],
 "metadata": {
  "kernelspec": {
   "display_name": "Julia 1.8.5",
   "language": "julia",
   "name": "julia-1.8"
  },
  "language_info": {
   "file_extension": ".jl",
   "mimetype": "application/julia",
   "name": "julia",
   "version": "1.8.5"
  }
 },
 "nbformat": 4,
 "nbformat_minor": 2
}
