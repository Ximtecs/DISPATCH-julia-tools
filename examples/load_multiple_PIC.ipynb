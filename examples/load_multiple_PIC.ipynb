{
 "cells": [
  {
   "cell_type": "code",
   "execution_count": null,
   "metadata": {},
   "outputs": [],
   "source": [
    "include(\"../IO_data/load_multiple_snapshots_PIC.jl\")"
   ]
  },
  {
   "cell_type": "code",
   "execution_count": null,
   "metadata": {},
   "outputs": [],
   "source": [
    "data_folder = \"../example_data/input_scaling_test/\"\n",
    "\n",
    "i_start = 0\n",
    "i_end = 10\n",
    "stride = 1\n",
    "\n",
    "DO_PARTICLES = true\n",
    "\n",
    "data, t, q, r, p, w, e, nr, pos, ids = load_multiple_snapshots_PIC(data_folder, DO_PARTICLES, i_start, i_end, stride);"
   ]
  }
 ],
 "metadata": {
  "kernelspec": {
   "display_name": "Julia 1.9.4",
   "language": "julia",
   "name": "julia-1.9"
  },
  "language_info": {
   "file_extension": ".jl",
   "mimetype": "application/julia",
   "name": "julia",
   "version": "1.9.4"
  }
 },
 "nbformat": 4,
 "nbformat_minor": 2
}
