{
 "cells": [
  {
   "cell_type": "code",
   "execution_count": null,
   "metadata": {},
   "outputs": [],
   "source": [
    "include(\"../IO/Snapshot_parser.jl\")\n",
    "include(\"../IO_data/load_2D_Slice.jl\")\n",
    "using Plots"
   ]
  },
  {
   "cell_type": "code",
   "execution_count": null,
   "metadata": {},
   "outputs": [],
   "source": [
    "#------------- load meta information of the snapshot -------------------\n",
    "data_folder = \"../example_data/example_1/\"\n",
    "snap = 50\n",
    "Snapshot_meta = read_snapshot(data_folder, snap);\n",
    "#----------------------------------------------------------------------"
   ]
  },
  {
   "cell_type": "code",
   "execution_count": null,
   "metadata": {},
   "outputs": [],
   "source": [
    "#----------- Load all variables for a 2D Slice ---------------------\n",
    "#---------- The output data will be (i1, i2, iv) ----------------------\n",
    "#----- i1 and i2 depends on the normal direction\n",
    "point = [0.0, 0.1, 0.0]\n",
    "normal = \"z\" #NOTE - example folder is 2D, so only \"z\" is valid\n",
    "data, data_pos = trace_2d_slice(Snapshot_meta, point, normal);\n",
    "println(size(data))"
   ]
  },
  {
   "cell_type": "code",
   "execution_count": null,
   "metadata": {},
   "outputs": [],
   "source": [
    "#----------- Load a single variable for a 2D Slice ---------------------\n",
    "#---------- The output data will be (i1, i2) ----------------------\n",
    "#----- i1 and i2 depends on the normal direction\n",
    "point = [0.0, 0.1, 0.0]\n",
    "normal = \"z\" #NOTE - example folder is 2D, so only \"z\" is valid@\n",
    "var = \"E\"\n",
    "data, data_pos = trace_2d_slice(Snapshot_meta, point, normal, var);\n",
    "println(size(data))"
   ]
  },
  {
   "cell_type": "code",
   "execution_count": null,
   "metadata": {},
   "outputs": [],
   "source": [
    "#----------- Load multiple variables for a 2D Slice ---------------------\n",
    "#----------- output with be a dictonary with the variable name as key\n",
    "#---------- The value for each will be structured as (i1,i2) \n",
    "#----- i1 and i2 depends on the normal direction\n",
    "point = [0.0, 0.1, 0.0]\n",
    "normal = \"z\" #NOTE - example folder is 2D, so only \"z\" is valid@\n",
    "vars = [\"E\", \"px\"]\n",
    "data, data_pos = trace_2d_slice(Snapshot_meta, point, normal, vars);\n",
    "println(size(data[\"E\"]))"
   ]
  }
 ],
 "metadata": {
  "kernelspec": {
   "display_name": "Julia 1.8.5",
   "language": "julia",
   "name": "julia-1.8"
  },
  "language_info": {
   "file_extension": ".jl",
   "mimetype": "application/julia",
   "name": "julia",
   "version": "1.8.5"
  }
 },
 "nbformat": 4,
 "nbformat_minor": 2
}
